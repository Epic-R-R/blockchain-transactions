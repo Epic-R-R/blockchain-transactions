{
 "cells": [
  {
   "cell_type": "markdown",
   "id": "8c2f19f6-01fb-46bc-84cc-af1bd8c601d9",
   "metadata": {
    "tags": []
   },
   "source": [
    "## Blockchain Transactions\n",
    "**Created by mrpintime**"
   ]
  },
  {
   "cell_type": "markdown",
   "id": "a69814c3-b798-4731-9bce-985c63fa7450",
   "metadata": {},
   "source": [
    "data analysis & webscraping & network sniffing project"
   ]
  },
  {
   "cell_type": "code",
   "execution_count": 22,
   "id": "f1034cf4-6f20-4c1a-bd83-ffbc33a24bc1",
   "metadata": {},
   "outputs": [],
   "source": [
    "import pandas as pd\n",
    "from datetime import datetime"
   ]
  },
  {
   "cell_type": "code",
   "execution_count": 23,
   "id": "7c78cbfa-153b-446e-8525-49939f528d49",
   "metadata": {},
   "outputs": [],
   "source": [
    "\n",
    "class BitBlock (object):\n",
    "    \n",
    "    def __init__ (self):\n",
    "        self.url = \"https://api.whale-alert.io/feed.csv\"\n",
    "        self.df = pd.read_csv(self.url)\n",
    "        self.df.columns =[\"id\", \"timestamp\", \"symbol\", \"amount\", \"amountUSD\", \"txType\", \"from\", \"fromType\", \"to\", \"toType\"]\n",
    "    \n",
    "    \n",
    "    def cleaningNum(self, number):\n",
    "        pretty_number  = f\"{number:,}\"\n",
    "        return pretty_number;\n",
    "    \n",
    "    \n",
    "    def cleaningAdress(self, address, addressType):\n",
    "        # addresses types [\"unknown\", \"exchange\", \"ico\", \"token\", \"other\"]\n",
    "        if addressType.lower() == \"unknown\":\n",
    "            wallet = \"unknown wallet\"\n",
    "            return wallet\n",
    "        elif addressType.lower() == 'exchange':\n",
    "            return address\n",
    "        elif addressType.lower() == 'ico':\n",
    "            return address\n",
    "        elif addressType.lower() == 'token':\n",
    "            return address\n",
    "        elif addressType.lower() == 'other':\n",
    "            return address\n",
    "\n",
    "    def showLive (self):\n",
    "        main_text = \"Nothing happened !\"\n",
    "        #create loop for going inside of row \n",
    "        for i in range(0, len(self.df[\"id\"])): \n",
    "            main_text = \" \" + str(datetime.fromtimestamp(self.df.loc[i, \"timestamp\"])) + \" \" + self.cleaningNum(self.df.loc[i, \"amount\"]) + self.df.loc[i, \"symbol\"].upper() + \" (\" + self.cleaningNum(self.df.loc[i, \"amountUSD\"]) + \" USD)\";\n",
    "            # main if statements\n",
    "            if self.df.loc[i, \"txType\"].lower() == 'transfer':\n",
    "                main_text += \" transferred\" + \" \" + \"from \" + self.cleaningAdress(self.df.loc[i, \"from\"], self.df.loc[i, \"fromType\"]) + \" \" + \"to \" + self.cleaningAdress(self.df.loc[i, \"to\"], self.df.loc[i, \"toType\"]);\n",
    "                # print out main_text\n",
    "                print(main_text)\n",
    "            elif self.df.loc[i, \"txType\"].lower() == 'mint':\n",
    "                main_text += \" minted\" + \" \" + \"at \" + self.cleaningAdress(self.df.loc[i, \"to\"], self.df.loc[i, \"toType\"]);\n",
    "                # print out main_text\n",
    "                print(main_text)\n",
    "            elif self.df.loc[i, \"txType\"].lower() == 'burn':\n",
    "                main_text += \" burned\" + \" \" + \"at \" + self.cleaningAdress(self.df.loc[i, \"from\"], self.df.loc[i, \"fromType\"]);\n",
    "                # print out main_text\n",
    "                print(main_text)\n",
    "            elif self.df.loc[i, \"txType\"].lower() == 'lock':\n",
    "                main_text += \" locked\" + \" \" + \"at \" + self.cleaningAdress(self.df.loc[i, \"from\"], self.df.loc[i, \"fromType\"]);\n",
    "                # print out main_text\n",
    "                print(main_text)\n",
    "            elif self.df.loc[i, \"txType\"].lower() =='unlock':\n",
    "                main_text += \" unlocked\" + \" \" + \"at \" + self.cleaningAdress(self.df.loc[i, \"to\"], self.df.loc[i, \"toType\"]);\n",
    "                # print out main_text\n",
    "                print(main_text)\n",
    "        if main_text == \"Nothing happened !\":\n",
    "            # print out main_text if nothing happened\n",
    "            print(main_text)"
   ]
  },
  {
   "cell_type": "code",
   "execution_count": 24,
   "id": "047124d5-a99d-4276-8273-cc1c68a480f3",
   "metadata": {},
   "outputs": [],
   "source": [
    "my_block = BitBlock()"
   ]
  },
  {
   "cell_type": "code",
   "execution_count": 25,
   "id": "dbfc5092-8020-4476-bfc3-55d19a091e08",
   "metadata": {},
   "outputs": [
    {
     "name": "stdout",
     "output_type": "stream",
     "text": [
      " 2023-02-01 23:33:30 150,000USDT (150,819 USD) transferred from unknown wallet to unknown wallet\n",
      " 2023-02-01 23:33:30 16,097USDT (16,185 USD) transferred from unknown wallet to unknown wallet\n",
      " 2023-02-01 23:33:27 50,000USDT (50,273 USD) transferred from unknown wallet to unknown wallet\n",
      " 2023-02-01 23:33:27 157,650TRX (9,938 USD) transferred from unknown wallet to unknown wallet\n",
      " 2023-02-01 23:33:24 20,720XLM (1,916 USD) transferred from coinbase withdrawals to binance\n",
      " 2023-02-01 23:33:24 300,000USDT (301,638 USD) transferred from unknown wallet to unknown wallet\n",
      " 2023-02-01 23:33:18 100,038USDT (100,584 USD) transferred from unknown wallet to unknown wallet\n",
      " 2023-02-01 23:33:15 12,244USDT (12,310 USD) transferred from unknown wallet to unknown wallet\n",
      " 2023-02-01 23:33:12 10,954USDT (11,014 USD) transferred from unknown wallet to unknown wallet\n",
      " 2023-02-01 23:33:11 40BNB (12,673 USD) transferred from unknown wallet to binance\n",
      " 2023-02-01 23:33:06 218,288TRX (13,709 USD) transferred from unknown wallet to unknown wallet\n",
      " 2023-02-01 23:33:06 12,832USDT (12,815 USD) transferred from unknown wallet to unknown wallet\n",
      " 2023-02-01 23:33:01 790,727XRP (328,993 USD) transferred from unknown wallet to unknown wallet\n",
      " 2023-02-01 23:33:00 202,800USDT (202,538 USD) transferred from binance to unknown wallet\n",
      " 2023-02-01 23:32:57 25,452USDT (25,419 USD) transferred from unknown wallet to unknown wallet\n",
      " 2023-02-01 23:32:51 108,258USDT (108,118 USD) transferred from unknown wallet to unknown wallet\n",
      " 2023-02-01 23:32:50 148,189XRP (61,656 USD) transferred from binance to unknown wallet\n",
      " 2023-02-01 23:32:48 400,000USDT (399,482 USD) transferred from unknown wallet to unknown wallet\n",
      " 2023-02-01 23:32:45 289,233USDT (288,859 USD) transferred from unknown wallet to unknown wallet\n",
      " 2023-02-01 23:32:42 19,859USDT (19,833 USD) transferred from unknown wallet to unknown wallet\n",
      " 2023-02-01 23:32:42 99,999XRP (41,606 USD) transferred from unknown wallet to binance\n",
      " 2023-02-01 23:32:39 13,163USDT (13,146 USD) transferred from unknown wallet to unknown wallet\n",
      " 2023-02-01 23:32:33 10,575USDT (10,561 USD) transferred from unknown wallet to kraken\n",
      " 2023-02-01 23:32:33 360,000USDT (359,534 USD) transferred from unknown wallet to unknown wallet\n",
      " 2023-02-01 23:32:33 169,629USDT (169,409 USD) transferred from unknown wallet to kraken\n",
      " 2023-02-01 23:32:27 11,784USDT (11,769 USD) transferred from unknown wallet to unknown wallet\n",
      " 2023-02-01 23:32:24 40,800USDT (40,747 USD) transferred from unknown wallet to unknown wallet\n",
      " 2023-02-01 23:32:18 28,000USDT (27,964 USD) transferred from unknown wallet to unknown wallet\n",
      " 2023-02-01 23:32:18 130,000USDT (129,832 USD) transferred from binance to unknown wallet\n",
      " 2023-02-01 23:32:12 17,106USDT (17,084 USD) transferred from unknown wallet to unknown wallet\n",
      " 2023-02-01 23:32:12 24,924XRP (10,370 USD) transferred from unknown wallet to unknown wallet\n"
     ]
    }
   ],
   "source": [
    "my_block.showLive()"
   ]
  },
  {
   "cell_type": "code",
   "execution_count": null,
   "id": "882a0555-64fc-4211-9c8b-c349eb03fafe",
   "metadata": {},
   "outputs": [],
   "source": []
  }
 ],
 "metadata": {
  "kernelspec": {
   "display_name": "env",
   "language": "python",
   "name": "env"
  },
  "language_info": {
   "codemirror_mode": {
    "name": "ipython",
    "version": 3
   },
   "file_extension": ".py",
   "mimetype": "text/x-python",
   "name": "python",
   "nbconvert_exporter": "python",
   "pygments_lexer": "ipython3",
   "version": "3.10.6"
  }
 },
 "nbformat": 4,
 "nbformat_minor": 5
}
