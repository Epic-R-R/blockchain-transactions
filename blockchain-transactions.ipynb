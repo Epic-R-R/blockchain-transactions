{
 "cells": [
  {
   "cell_type": "markdown",
   "id": "8c2f19f6-01fb-46bc-84cc-af1bd8c601d9",
   "metadata": {
    "tags": []
   },
   "source": [
    "## Blockchain Transactions\n",
    "**Created by mrpintime**"
   ]
  },
  {
   "cell_type": "markdown",
   "id": "a69814c3-b798-4731-9bce-985c63fa7450",
   "metadata": {},
   "source": [
    "data analysis & webscraping & network sniffing project"
   ]
  },
  {
   "cell_type": "code",
   "execution_count": 1,
   "id": "f1034cf4-6f20-4c1a-bd83-ffbc33a24bc1",
   "metadata": {},
   "outputs": [],
   "source": [
    "import pandas as pd\n",
    "from datetime import datetime"
   ]
  },
  {
   "cell_type": "code",
   "execution_count": 2,
   "id": "7c78cbfa-153b-446e-8525-49939f528d49",
   "metadata": {},
   "outputs": [],
   "source": [
    "\n",
    "class BitBlock (object):\n",
    "    \n",
    "    def __init__ (self):\n",
    "        self.url = \"https://api.whale-alert.io/feed.csv\"\n",
    "        self.df = pd.read_csv(self.url)\n",
    "        self.df.columns =[\"id\", \"timestamp\", \"symbol\", \"amount\", \"amountUSD\", \"txType\", \"from\", \"fromType\", \"to\", \"toType\"]\n",
    "        # print(\" \".join(map(str, list(df.iloc[i]))))  \n",
    "    \n",
    "    \n",
    "    def humanizeNumber(self, nStr):\n",
    "        nStr = str(nStr);\n",
    "        x = nStr.split('.');\n",
    "        x1 = x[0];\n",
    "        x2 = '.' + x[1] if len(x) > 1 else '';\n",
    "        # rgx = '/(\\d+)(\\d{3})/';\n",
    "        # while (rgx.test(x1)):\n",
    "        #     x1 = x1.replace(rgx, '$1' + ',' + '$2');\n",
    "            \n",
    "        return x1 + x2;\n",
    "    \n",
    "    \n",
    "    def addressHTML(self, address, addressType):\n",
    "        # [\"unknown\", \"exchange\", \"ico\", \"token\", \"other\"]\n",
    "        if addressType.lower() == \"unknown\":\n",
    "            wallet = \"unknown wallet\"\n",
    "            return wallet\n",
    "        elif addressType.lower() == 'exchange':\n",
    "            return address\n",
    "        elif addressType.lower() == 'ico':\n",
    "            return address\n",
    "        elif addressType.lower() == 'token':\n",
    "            return address\n",
    "        elif addressType.lower() == 'other':\n",
    "            return address\n",
    "\n",
    "    def showLive (self):\n",
    "        main_text = \"Nothing happened !\"\n",
    "        #create loop for going inside of row \n",
    "        for i in range(0, len(self.df[\"id\"])): \n",
    "            main_text = \" \" + str(datetime.fromtimestamp(self.df.loc[i, \"timestamp\"])) + \" \" + self.humanizeNumber(self.df.loc[i, \"amount\"]) + self.df.loc[i, \"symbol\"].upper() + \" (\" + self.humanizeNumber(self.df.loc[i, \"amountUSD\"]) + \" USD)\";\n",
    "            # main if statements\n",
    "            if self.df.loc[i, \"txType\"].lower() == 'transfer':\n",
    "                main_text += \" transferred\" + \" \" + \"from \" + self.addressHTML(self.df.loc[i, \"from\"], self.df.loc[i, \"fromType\"]) + \" \" + \"to \" + self.addressHTML(self.df.loc[i, \"to\"], self.df.loc[i, \"toType\"]);\n",
    "                # print out main_text\n",
    "                print(main_text)\n",
    "            elif self.df.loc[i, \"txType\"].lower() == 'mint':\n",
    "                main_text += \" minted\" + \" \" + \"at \" + self.addressHTML(self.df.loc[i, \"to\"], self.df.loc[i, \"toType\"]);\n",
    "                # print out main_text\n",
    "                print(main_text)\n",
    "            elif self.df.loc[i, \"txType\"].lower() == 'burn':\n",
    "                main_text += \" burned\" + \" \" + \"at \" + self.addressHTML(self.df.loc[i, \"from\"], self.df.loc[i, \"fromType\"]);\n",
    "                # print out main_text\n",
    "                print(main_text)\n",
    "            elif self.df.loc[i, \"txType\"].lower() == 'lock':\n",
    "                main_text += \" locked\" + \" \" + \"at \" + self.addressHTML(self.df.loc[i, \"from\"], self.df.loc[i, \"fromType\"]);\n",
    "                # print out main_text\n",
    "                print(main_text)\n",
    "            elif self.df.loc[i, \"txType\"].lower() =='unlock':\n",
    "                main_text += \" unlocked\" + \" \" + \"at \" + self.addressHTML(self.df.loc[i, \"to\"], self.df.loc[i, \"toType\"]);\n",
    "                # print out main_text\n",
    "                print(main_text)\n",
    "        if main_text == \"Nothing happened !\":\n",
    "            # print out main_text if nothing happened\n",
    "            print(main_text)"
   ]
  },
  {
   "cell_type": "code",
   "execution_count": 3,
   "id": "047124d5-a99d-4276-8273-cc1c68a480f3",
   "metadata": {},
   "outputs": [],
   "source": [
    "my_block = BitBlock()"
   ]
  },
  {
   "cell_type": "code",
   "execution_count": 4,
   "id": "dbfc5092-8020-4476-bfc3-55d19a091e08",
   "metadata": {},
   "outputs": [
    {
     "name": "stdout",
     "output_type": "stream",
     "text": [
      " 2023-02-01 13:04:57 40000.0USDT (40236 USD) transferred from unknown wallet to unknown wallet\n",
      " 2023-02-01 13:04:57 72780.0USDT (73210 USD) transferred from unknown wallet to unknown wallet\n",
      " 2023-02-01 13:04:57 245000.0USDT (246447 USD) transferred from unknown wallet to unknown wallet\n",
      " 2023-02-01 13:04:54 120000.0USDT (120709 USD) transferred from unknown wallet to unknown wallet\n",
      " 2023-02-01 13:04:54 118724.0USDT (119425 USD) transferred from unknown wallet to unknown wallet\n",
      " 2023-02-01 13:04:48 125000.0USDT (125738 USD) transferred from unknown wallet to unknown wallet\n",
      " 2023-02-01 13:04:48 120344.0USDT (121055 USD) transferred from unknown wallet to unknown wallet\n",
      " 2023-02-01 13:04:45 50000.0USDT (49883 USD) transferred from unknown wallet to unknown wallet\n",
      " 2023-02-01 13:04:42 20000.0USDT (19953 USD) transferred from unknown wallet to unknown wallet\n",
      " 2023-02-01 13:04:42 21010.0USDT (20961 USD) transferred from unknown wallet to unknown wallet\n",
      " 2023-02-01 13:04:35 856399.0USDC (862749 USD) transferred from kraken to unknown wallet\n",
      " 2023-02-01 13:04:35 50000.0USDT (50295 USD) transferred from unknown wallet to unknown wallet\n",
      " 2023-02-01 13:04:35 54267.0USDT (54587 USD) transferred from coinbase to binance\n",
      " 2023-02-01 13:04:33 29500.0USDT (29431 USD) transferred from unknown wallet to unknown wallet\n",
      " 2023-02-01 13:04:33 13255.0USDT (13224 USD) transferred from unknown wallet to unknown wallet\n",
      " 2023-02-01 13:04:27 28788.0USDT (28720 USD) transferred from unknown wallet to unknown wallet\n",
      " 2023-02-01 13:04:27 273389.0USDT (272747 USD) transferred from unknown wallet to unknown wallet\n",
      " 2023-02-01 13:04:23 200000.0USDT (199531 USD) transferred from unknown wallet to unknown wallet\n",
      " 2023-02-01 13:04:21 80000.0USDT (79812 USD) transferred from unknown wallet to unknown wallet\n",
      " 2023-02-01 13:04:18 156241.0USDT (155874 USD) transferred from unknown wallet to unknown wallet\n",
      " 2023-02-01 13:04:18 95537.0USDT (95313 USD) transferred from unknown wallet to unknown wallet\n",
      " 2023-02-01 13:04:15 100000.0USDT (99765 USD) transferred from unknown wallet to unknown wallet\n",
      " 2023-02-01 13:04:12 2274800.0USDT (2269462 USD) transferred from unknown wallet to unknown wallet\n",
      " 2023-02-01 13:04:12 200000.0USDT (199531 USD) transferred from unknown wallet to unknown wallet\n",
      " 2023-02-01 13:04:11 84.6ETH (133934 USD) transferred from mexc to unknown wallet\n",
      " 2023-02-01 13:04:11 1000000.0USDT (997654 USD) transferred from okex to okex\n",
      " 2023-02-01 13:04:09 3000000.0USDT (2992961 USD) transferred from unknown wallet to unknown wallet\n",
      " 2023-02-01 13:04:06 170207.0USDT (169808 USD) transferred from unknown wallet to unknown wallet\n",
      " 2023-02-01 13:04:06 138680.0USDT (138355 USD) transferred from unknown wallet to unknown wallet\n",
      " 2023-02-01 13:04:00 51351.0USDT (51231 USD) transferred from unknown wallet to unknown wallet\n",
      " 2023-02-01 13:04:00 50000.0USDT (49883 USD) transferred from unknown wallet to unknown wallet\n"
     ]
    }
   ],
   "source": [
    "my_block.showLive()"
   ]
  },
  {
   "cell_type": "code",
   "execution_count": null,
   "id": "882a0555-64fc-4211-9c8b-c349eb03fafe",
   "metadata": {},
   "outputs": [],
   "source": []
  }
 ],
 "metadata": {
  "kernelspec": {
   "display_name": "env",
   "language": "python",
   "name": "env"
  },
  "language_info": {
   "codemirror_mode": {
    "name": "ipython",
    "version": 3
   },
   "file_extension": ".py",
   "mimetype": "text/x-python",
   "name": "python",
   "nbconvert_exporter": "python",
   "pygments_lexer": "ipython3",
   "version": "3.10.6"
  }
 },
 "nbformat": 4,
 "nbformat_minor": 5
}
